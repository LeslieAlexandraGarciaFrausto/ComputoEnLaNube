{
  "nbformat": 4,
  "nbformat_minor": 0,
  "metadata": {
    "colab": {
      "provenance": [],
      "authorship_tag": "ABX9TyPn5wXuJEImi/Bu5LHwVk7a",
      "include_colab_link": true
    },
    "kernelspec": {
      "name": "python3",
      "display_name": "Python 3"
    },
    "language_info": {
      "name": "python"
    }
  },
  "cells": [
    {
      "cell_type": "markdown",
      "metadata": {
        "id": "view-in-github",
        "colab_type": "text"
      },
      "source": [
        "<a href=\"https://colab.research.google.com/github/LeslieAlexandraGarciaFrausto/ComputoEnLaNube/blob/main/ExamenU1Leslie.ipynb\" target=\"_parent\"><img src=\"https://colab.research.google.com/assets/colab-badge.svg\" alt=\"Open In Colab\"/></a>"
      ]
    },
    {
      "cell_type": "code",
      "execution_count": null,
      "metadata": {
        "id": "VB-HUYV65HMT"
      },
      "outputs": [],
      "source": [
        "def es_primo(numero):\n",
        "    if numero <= 1:\n",
        "        return False\n",
        "    return all(numero % i != 0 for i in range(2, int(numero**0.5) + 1))\n",
        "\n",
        "numero = int(input(\"Porfavor, ingresa un número (positivo) entero: \"))\n",
        "\n",
        "if es_primo(numero):\n",
        "    print(f\"{numero} si un número primo.\")\n",
        "else:\n",
        "    print(f\"{numero} no es un número primo.\")"
      ]
    },
    {
      "cell_type": "code",
      "source": [
        "def es_primo(numero):\n",
        "    if numero <= 1:\n",
        "        return False\n",
        "    return all(numero % i != 0 for i in range(2, int(numero**0.5) + 1))\n",
        "\n",
        "def nextPrime(n):\n",
        "    next_number = n + 1\n",
        "    while True:\n",
        "        if es_primo(next_number):\n",
        "            return next_number\n",
        "        next_number += 1\n",
        "\n",
        "# Programa principal\n",
        "n = int(input(\"Porfavor, ingresa un número entero positivo: \"))\n",
        "primer_primo_mayor = nextPrime(n)\n",
        "print(f\"El siguiente número primo de {n} es {primer_primo_mayor}\")"
      ],
      "metadata": {
        "id": "jfm4pPI96dm8"
      },
      "execution_count": null,
      "outputs": []
    },
    {
      "cell_type": "code",
      "source": [
        "def calcular_mediana(a, b, c):\n",
        "    numeros = [a, b, c]\n",
        "    numeros.sort()\n",
        "    mediana = numeros[1]\n",
        "    return mediana\n",
        "num1 = float(input(\"Hola! Porfavor, introduce el primer número: \"))\n",
        "num2 = float(input(\"Ahora, introduce el segundo número: \"))\n",
        "num3 = float(input(\"Por ultimo, introduce el tercer número: \"))\n",
        "mediana = calcular_mediana(num1, num2, num3)\n",
        "print(f\"¡Listo! La mediana es: {mediana}\")"
      ],
      "metadata": {
        "id": "xVsCy6AX7EOx"
      },
      "execution_count": null,
      "outputs": []
    },
    {
      "cell_type": "code",
      "source": [
        "import random\n",
        "\n",
        "# Función para generar una contraseña aleatoria\n",
        "def generar_contraseña_aleatoria():\n",
        "    longitud = random.randint(7, 10)#Longitud entre 7 y 10 caracteres\n",
        "    contraseña = \"\"\n",
        "    for _ in range(longitud):\n",
        "        caracter = chr(random.randint(33, 126))# Caracter en el rango ASCII\n",
        "        contraseña += caracter\n",
        "    return contraseña\n",
        "\n",
        "if __name__ == \"__main__\":\n",
        "    contraseña_generada = generar_contraseña_aleatoria()\n",
        "    print(f\"Contraseña generada con exito: {contraseña_generada}\")"
      ],
      "metadata": {
        "id": "B0cuwcoD7qkh"
      },
      "execution_count": null,
      "outputs": []
    },
    {
      "cell_type": "code",
      "source": [
        "def calcular_hipotenusa(lado1, lado2):\n",
        "    hipotenusa = (lado1 ** 2 + lado2 ** 2) ** 0.5\n",
        "    return hipotenusa\n",
        "\n",
        "if __name__ == \"__main__\":\n",
        "    try:\n",
        "        lado1 = float(input(\"Ingrese la longitud del primer lado corto: \"))\n",
        "        lado2 = float(input(\"Ingrese la longitud del segundo lado corto: \"))\n",
        "\n",
        "        hipotenusa = calcular_hipotenusa(lado1, lado2)\n",
        "\n",
        "        print(f\"La longitud de la hipotenusa es: {hipotenusa}\")\n",
        "    except ValueError:\n",
        "        print(\"Por favor, ingrese valores numéricos válidos.\")"
      ],
      "metadata": {
        "id": "tg7d3mC_7rm4"
      },
      "execution_count": null,
      "outputs": []
    }
  ]
}