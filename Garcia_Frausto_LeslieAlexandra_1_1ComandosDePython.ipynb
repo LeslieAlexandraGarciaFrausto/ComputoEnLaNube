{
  "nbformat": 4,
  "nbformat_minor": 0,
  "metadata": {
    "colab": {
      "provenance": [],
      "authorship_tag": "ABX9TyP/t9EeMuRktW+eE6tfA6b6",
      "include_colab_link": true
    },
    "kernelspec": {
      "name": "python3",
      "display_name": "Python 3"
    },
    "language_info": {
      "name": "python"
    }
  },
  "cells": [
    {
      "cell_type": "markdown",
      "metadata": {
        "id": "view-in-github",
        "colab_type": "text"
      },
      "source": [
        "<a href=\"https://colab.research.google.com/github/LeslieAlexandraGarciaFrausto/ComputoEnLaNube/blob/main/Garcia_Frausto_LeslieAlexandra_1_1ComandosDePython.ipynb\" target=\"_parent\"><img src=\"https://colab.research.google.com/assets/colab-badge.svg\" alt=\"Open In Colab\"/></a>"
      ]
    },
    {
      "cell_type": "markdown",
      "source": [
        "***Alumna: Leslie Alexandra Garcia Frausto  \n",
        "IIA-07   Instituto Politecnico Nacional -\n",
        "Computacion en la nube***"
      ],
      "metadata": {
        "id": "whsHhMmKjDm8"
      }
    },
    {
      "cell_type": "markdown",
      "source": [
        "1. Factorial de un numero:"
      ],
      "metadata": {
        "id": "KhBbe_G-Z1Fz"
      }
    },
    {
      "cell_type": "code",
      "source": [
        "from math import factorial #importamos la libreria\n",
        "factorial(5) #pedimos el factorial de 5"
      ],
      "metadata": {
        "colab": {
          "base_uri": "https://localhost:8080/"
        },
        "id": "2U3UpqCMZaFH",
        "outputId": "b00f8954-45df-4dc4-dcaa-f5c35e6679c0"
      },
      "execution_count": null,
      "outputs": [
        {
          "output_type": "execute_result",
          "data": {
            "text/plain": [
              "120"
            ]
          },
          "metadata": {},
          "execution_count": 4
        }
      ]
    },
    {
      "cell_type": "markdown",
      "source": [
        "2. Vinculacion de nombres (name-binding): Dar valor a una identidad."
      ],
      "metadata": {
        "id": "YAmeOhhtcZZG"
      }
    },
    {
      "cell_type": "code",
      "source": [
        "n = 3  # numero entero no necesita comillas (integer number)\n",
        "direccion = \"Calle Huizachal 548\" #string siempre entre comillas\n",
        "empleado = {\n",
        "    'Edad': 20,\n",
        "    'Rol': \"CTO\",\n",
        "    'NSS': \"AB1234567\",\n",
        "}\n",
        "#imprimimos\n",
        "\n",
        "n, direccion, empleado\n",
        "\n",
        "#Un numero entero 'n' (type: int, value: 3)\n",
        "#Una cadena de palabras=string 'direccion' (type:str, value: Calle Huizachal 548)\n",
        "#Un diccionario 'empleado' (type: dict, value: un objeto de diccionario con tres claves/ pares de valores"
      ],
      "metadata": {
        "colab": {
          "base_uri": "https://localhost:8080/"
        },
        "id": "XxpMJryiaBE3",
        "outputId": "8ac3aaff-d4dc-4393-a39a-f14233492953"
      },
      "execution_count": null,
      "outputs": [
        {
          "output_type": "execute_result",
          "data": {
            "text/plain": [
              "(3, 'Calle Huizachal 548', {'Edad': 20, 'Rol': 'CTO', 'NSS': 'AB1234567'})"
            ]
          },
          "metadata": {},
          "execution_count": 10
        }
      ]
    },
    {
      "cell_type": "markdown",
      "source": [
        "3. Clases (classes):"
      ],
      "metadata": {
        "id": "e5_d0Lvql3Nw"
      }
    },
    {
      "cell_type": "code",
      "source": [
        "#Definimos la clase Bike\n",
        "class Bike:\n",
        "\n",
        "#__init__ se usa para asignar valores iniciales a los atributos de una instancia de la clase\n",
        "  def __init__(self, colour, frame_material):\n",
        "    self.colour = colour\n",
        "    self.frame_material = frame_material\n",
        "\n",
        "  def brake(self):\n",
        "      print(\"Braking!\")\n",
        "\n",
        "#Creamos las instancias de cada color de Bike\n",
        "red_bike = Bike('Red', 'Carbon fiber')\n",
        "blue_bike = Bike('Blue', 'Steel')\n",
        "\n",
        "# Inspeccionemos los objetos que tenemos, instancias de la clase Bike\n",
        "print(red_bike.colour)\n",
        "print(red_bike.frame_material)\n",
        "print(blue_bike.colour)\n",
        "print(blue_bike.frame_material)\n",
        "\n",
        "red_bike.brake()\n",
        "\n",
        "\n",
        "\n",
        "\n",
        "\n"
      ],
      "metadata": {
        "colab": {
          "base_uri": "https://localhost:8080/"
        },
        "id": "vCCAfuwXjeK7",
        "outputId": "ed0d05b4-8dca-40b9-80c7-bff6ccd152a8"
      },
      "execution_count": null,
      "outputs": [
        {
          "output_type": "stream",
          "name": "stdout",
          "text": [
            "Red\n",
            "Carbon fiber\n",
            "Blue\n",
            "Steel\n",
            "Braking!\n"
          ]
        }
      ]
    },
    {
      "cell_type": "markdown",
      "source": [
        "4. Numeros reales"
      ],
      "metadata": {
        "id": "EaAHGBnAKc8_"
      }
    },
    {
      "cell_type": "code",
      "source": [
        "# Se definen los valores\n",
        "pi = 3.14159 #int\n",
        "radius = 4.5 #int\n",
        "area = pi * (radius ** 2) # area = pi por radio al cuadrado\n",
        "# se imprime\n",
        "area\n",
        "\n"
      ],
      "metadata": {
        "colab": {
          "base_uri": "https://localhost:8080/"
        },
        "id": "mHCM7h__KUha",
        "outputId": "7b30133c-1561-41f3-8f64-4292c6916355"
      },
      "execution_count": null,
      "outputs": [
        {
          "output_type": "execute_result",
          "data": {
            "text/plain": [
              "63.617197499999996"
            ]
          },
          "metadata": {},
          "execution_count": 22
        }
      ]
    },
    {
      "cell_type": "markdown",
      "source": [
        "5. Indexación y corte de cadenas"
      ],
      "metadata": {
        "id": "HAjvmJ9_LswK"
      }
    },
    {
      "cell_type": "code",
      "source": [
        "s = \"The trouble is you think you have time.\"\n",
        "s[0] # indexacion en la posicion 0, que es siempre el primer caracter\n",
        "'T'\n",
        "s[5] # indexacion en la posicion 5, que es el sexto caracter\n",
        "'r'\n",
        "s[:4] # al cortar, solo especificamos en la posicion que queremos que pare\n",
        "'The '\n",
        "s[4:] # al cortar, especificamos en la posicion en donde quiere que inicie\n",
        "'trouble is you think you have time.'\n",
        "s[2:14] # cortamos la cadena donde queremos que inicie y termine\n",
        "'e trouble is'\n",
        "s[2:14:3] # cortar, iniciar, detener y avanzar (cada 3 caracteres)\n",
        "'erb '\n",
        "s[:] # solo se copia el texto completo\n",
        "'The trouble is you think you have time.'"
      ],
      "metadata": {
        "id": "3-Q_aZixLwx8"
      },
      "execution_count": null,
      "outputs": []
    },
    {
      "cell_type": "markdown",
      "source": [
        "6. Formato de cadena (string)\n"
      ],
      "metadata": {
        "id": "iQRX5RBDNzXS"
      }
    },
    {
      "cell_type": "code",
      "source": [
        "greet_old = 'Hello %s!' #podemos usar el %s (s=string)\n",
        "greet_old % 'Fabrizio'\n",
        "'Hello Fabrizio!' #imprimimos\n",
        "greet_positional = 'Hello {}!' #podemos usar {}\n",
        "greet_positional.format('Fabrizio')\n",
        "'Hello Fabrizio!' #imprimimos\n",
        "greet_positional = 'Hello {} {}!' #aqui usamos dos veces el {} para añadir dos string\n",
        "greet_positional.format('Fabrizio', 'Romano')\n",
        "'Hello Fabrizio Romano!' #imprimimos\n",
        "greet_positional_idx = 'This is {0}! {1} loves {0}!' #siendo el primero el 0 y el segundo dato el 1, podemos crear texto de esta manera\n",
        "greet_positional_idx.format('Python', 'Heinrich')\n",
        "'This is Python! Heinrich loves Python!' #imprimimos\n",
        "greet_positional_idx.format('Coffee', 'Fab') #aqui cambiamos las palabras que queremos agregar al string\n",
        "'This is Coffee! Fab loves Coffee!' #imprimimos\n",
        "keyword = 'Hello, my name is {name} {last_name}' #aqui damos valores a las variables\n",
        "keyword.format(name='Fabrizio', last_name='Romano')\n",
        "'Hello, my name is Fabrizio Romano'#imprimimos"
      ],
      "metadata": {
        "colab": {
          "base_uri": "https://localhost:8080/",
          "height": 35
        },
        "id": "Fr-S0CmtPx6R",
        "outputId": "bd1afea3-087e-426a-b2fe-2bc1243528c3"
      },
      "execution_count": null,
      "outputs": [
        {
          "output_type": "execute_result",
          "data": {
            "text/plain": [
              "'Hello, my name is Fabrizio Romano'"
            ],
            "application/vnd.google.colaboratory.intrinsic+json": {
              "type": "string"
            }
          },
          "metadata": {},
          "execution_count": 24
        }
      ]
    },
    {
      "cell_type": "markdown",
      "source": [
        "7. Listas"
      ],
      "metadata": {
        "id": "iZvAvW8oROGO"
      }
    },
    {
      "cell_type": "code",
      "source": [
        "[] #lista vacia\n",
        "\n",
        "list() #es lo mismo que poner []\n",
        "\n",
        "[1, 2, 3] #los elementos se separan por comas\n",
        "\n",
        "[x + 5 for x in [2, 3, 4]]\n",
        "\n",
        "list((1, 3, 5, 7, 9))\n",
        "\n",
        "list('hello') #enlista un string\n",
        "\n",
        "#Minimo, maximo, sumatoria, producto y num de elementos de una lista\n",
        "\n",
        "a = [1, 3, 5, 7]\n",
        "min(a) #minimo de la lista\n",
        "max(a) #maximo de la lista\n",
        "sum(a) #sumatoria de la lista\n",
        "\n",
        "from math import prod\n",
        "prod(a) #producto de la lista\n",
        "len(a) #num de elementos de la lista\n",
        "\n",
        "b = [6, 7, 8] #se crea una segunda lista\n",
        "a + b #se concatenan (unen) las dos listas con el simbolo +\n",
        "a * 2 #se repite dos veces la lista a"
      ],
      "metadata": {
        "colab": {
          "base_uri": "https://localhost:8080/"
        },
        "id": "SRT_nfg3Rjdv",
        "outputId": "1fcec257-3b67-409f-f2a0-1692a18c013a"
      },
      "execution_count": null,
      "outputs": [
        {
          "output_type": "execute_result",
          "data": {
            "text/plain": [
              "[1, 3, 5, 7, 1, 3, 5, 7]"
            ]
          },
          "metadata": {},
          "execution_count": 38
        }
      ]
    },
    {
      "cell_type": "markdown",
      "source": [
        "8.  Trabajar con archivos y directorios"
      ],
      "metadata": {
        "id": "eJOx3htdV-9A"
      }
    },
    {
      "cell_type": "code",
      "source": [
        "fh = open('fear.txt', 'rt') # r: read, t: text\n",
        "\n",
        "try:\n",
        " for line in fh.readlines():\n",
        "  print(line.strip()) # quita el espacio y corre\n",
        "finally:\n",
        "  fh.close()"
      ],
      "metadata": {
        "id": "ObnvBi1fiyYc"
      },
      "execution_count": null,
      "outputs": []
    },
    {
      "cell_type": "markdown",
      "source": [
        "9. Contenido en directorio"
      ],
      "metadata": {
        "id": "hnvecY3nlw02"
      }
    },
    {
      "cell_type": "code",
      "source": [
        "#importamos la libreria necesaria\n",
        "from pathlib import Path\n",
        "p = Path('.')\n",
        "for entry in p.glob('*'):\n",
        " print('File:' if entry.is_file() else 'Folder:', entry)"
      ],
      "metadata": {
        "colab": {
          "base_uri": "https://localhost:8080/"
        },
        "id": "N4NxAoGLmVTv",
        "outputId": "ce03ec1c-11b8-4483-a326-89f7b5d51398"
      },
      "execution_count": null,
      "outputs": [
        {
          "output_type": "stream",
          "name": "stdout",
          "text": [
            "Folder: .config\n",
            "Folder: sample_data\n"
          ]
        }
      ]
    },
    {
      "cell_type": "markdown",
      "source": [
        "10. JavaScript Object Notation, como trabajar con el"
      ],
      "metadata": {
        "id": "MgndEdmNmciJ"
      }
    },
    {
      "cell_type": "code",
      "source": [
        "import sys\n",
        "import json\n",
        "data = {\n",
        "'big_number': 2 ** 3141, #datos num enteros\n",
        "'max_float': sys.float_info.max, #datos float\n",
        "'a_list': [2, 3, 5, 7], #datos en lista\n",
        "}\n",
        "json_data = json.dumps(data)\n",
        "data_out = json.loads(json_data)\n",
        "assert data == data_out # los datos coinciden\n",
        "\n",
        "data #imprimimos"
      ],
      "metadata": {
        "id": "4KXNzusUmqNG",
        "colab": {
          "base_uri": "https://localhost:8080/"
        },
        "outputId": "25445b78-65b6-42f5-a89d-5820b4fc2181"
      },
      "execution_count": 5,
      "outputs": [
        {
          "output_type": "execute_result",
          "data": {
            "text/plain": [
              "{'big_number': 3429386078901704149140804225578202623351040602809071797457452137749997144410605982086339986761683763619331940906914382072592728622947596069285672364460313920867891826138425203642392145971566815862430767942005914996146743459299915831134259153866151247097168041057427064495825560336622191247272942407025622355768860962684706076252737721000116007388368259737092935866338578682113247025351075137789382141311260171130405832644644340490850542742400218678862126859072611689532330880767461338567758585516551877427436235861865741763528098939030455098879877765491669605583422318629871274759792647738220776504279363064616761908311845309573450600514789473455337667165059270015368224745383728003902566784518827706695706136893222693384656008313309686908620719739784892718415640015307395294056109860404122040001282283477429818043711693396380271567865153085093429887884892827760142975464266713483392197517413089396497478800278385487666917885696440216793018007552,\n",
              " 'max_float': 1.7976931348623157e+308,\n",
              " 'a_list': [2, 3, 5, 7]}"
            ]
          },
          "metadata": {},
          "execution_count": 5
        }
      ]
    },
    {
      "cell_type": "markdown",
      "source": [
        "11. Booleanos"
      ],
      "metadata": {
        "id": "zR76s9RV2sIA"
      }
    },
    {
      "cell_type": "code",
      "source": [
        "int(True) #True se comporta como 1\n",
        "int(False) #Falso se comporta como 0\n",
        "bool(1) #1 se evalua como True en un contecto booleano\n",
        "bool(-1) #y pasa lo mismo con los numeros diferentes de cero\n",
        "bool(0) #0 se comporta como Falso\n",
        "not True #False\n",
        "not False #True\n",
        "True and True\n",
        "False and False\n",
        "True and False\n",
        "1+True #True se comporta como 1\n",
        "False + 42 #False se comporta como 0"
      ],
      "metadata": {
        "colab": {
          "base_uri": "https://localhost:8080/"
        },
        "id": "cJR6YBAr2uD9",
        "outputId": "067c3d4b-7d0b-4f0e-b6b5-a2eb2dfe7f92"
      },
      "execution_count": null,
      "outputs": [
        {
          "output_type": "execute_result",
          "data": {
            "text/plain": [
              "42"
            ]
          },
          "metadata": {},
          "execution_count": 74
        }
      ]
    },
    {
      "cell_type": "markdown",
      "source": [
        "12. Fracciones y decimales"
      ],
      "metadata": {
        "id": "HPhMWIU33Uom"
      }
    },
    {
      "cell_type": "code",
      "source": [
        "from fractions import Fraction\n",
        "Fraction(10, 6) #simplifica\n",
        "\n",
        "Fraction(1, 3) + Fraction(2, 3) #1/3 + 2/3 == 3/3 == 1/1\n",
        "\n",
        "f = Fraction(10, 6)\n",
        "f.numerator #pedimos numerador\n",
        "\n",
        "f.denominator #pedimos denominador\n",
        "\n",
        "f.as_integer_ratio() #proporcion de enteros"
      ],
      "metadata": {
        "colab": {
          "base_uri": "https://localhost:8080/"
        },
        "id": "8NRBHIbd3bmM",
        "outputId": "f01f664c-7fec-4599-dc52-cf398a1bf26c"
      },
      "execution_count": null,
      "outputs": [
        {
          "output_type": "execute_result",
          "data": {
            "text/plain": [
              "(5, 3)"
            ]
          },
          "metadata": {},
          "execution_count": 79
        }
      ]
    },
    {
      "cell_type": "markdown",
      "source": [
        "13. Enumeraciones"
      ],
      "metadata": {
        "id": "6igMCRfXKoZJ"
      }
    },
    {
      "cell_type": "code",
      "source": [
        "#Se le asigna el valor a las variables\n",
        "GREEN = 1\n",
        "YELLOW = 2\n",
        "RED = 4\n",
        "TRAFFIC_LIGHTS = (GREEN, YELLOW, RED)\n",
        "# o con un dictado\n",
        "traffic_lights = {'GREEN': 1, 'YELLOW': 2, 'RED': 4}\n",
        "\n",
        "#se importan las librerias\n",
        "from enum import Enum\n",
        "#se crea la clase\n",
        "class TrafficLight(Enum):\n",
        "  GREEN = 1\n",
        "  YELLOW = 2\n",
        "  RED = 4\n",
        "\n",
        "TrafficLight.GREEN\n",
        "TrafficLight.GREEN.name\n",
        "'GREEN'\n",
        "TrafficLight.GREEN.value\n",
        "TrafficLight(1)\n",
        "#<TrafficLight.GREEN: 1>\n",
        "TrafficLight(4)\n",
        "#<TrafficLight.RED: 4>\n",
        "\n",
        "\n"
      ],
      "metadata": {
        "colab": {
          "base_uri": "https://localhost:8080/"
        },
        "id": "o9B2BDHdKqrJ",
        "outputId": "da91e2d7-3f99-45e1-b591-c307b7a5cab4"
      },
      "execution_count": 25,
      "outputs": [
        {
          "output_type": "execute_result",
          "data": {
            "text/plain": [
              "<TrafficLight.RED: 4>"
            ]
          },
          "metadata": {},
          "execution_count": 25
        }
      ]
    },
    {
      "cell_type": "markdown",
      "source": [
        "14. Como elegir estructuras de datos"
      ],
      "metadata": {
        "id": "v3puXPRPPpEP"
      }
    },
    {
      "cell_type": "code",
      "source": [
        "# ejemplo de objetos de cliente\n",
        "customer1 = {'id': 'abc123', 'full_name': 'Omar Arturo'}\n",
        "customer2 = {'id': 'def456', 'full_name': 'Brandon Erick'}\n",
        "customer3 = {'id': 'ghi789', 'full_name': 'Mariano Sebastian'}\n",
        "# podemos recogerlas en un tuple\n",
        "customers = (customer1, customer2, customer3)\n",
        "# o en una lista\n",
        "customers = [customer1, customer2, customer3]\n",
        "# o en un diccionario, igual todos tienen una definicion unica\n",
        "customers = {\n",
        "'abc123': customer1,\n",
        "'def456': customer2,\n",
        "'ghi789': customer3,\n",
        "}\n",
        "\n"
      ],
      "metadata": {
        "colab": {
          "base_uri": "https://localhost:8080/"
        },
        "id": "320ZwzcdQLho",
        "outputId": "23641683-3946-4217-f266-1575c29e3c1f"
      },
      "execution_count": 26,
      "outputs": [
        {
          "output_type": "execute_result",
          "data": {
            "text/plain": [
              "{'id': 'abc123', 'full_name': 'Omar Arturo'}"
            ]
          },
          "metadata": {},
          "execution_count": 26
        }
      ]
    },
    {
      "cell_type": "markdown",
      "source": [
        "15. Condicionales"
      ],
      "metadata": {
        "id": "b5c_LdjfRRR_"
      }
    },
    {
      "cell_type": "code",
      "source": [
        "#Un else especializado: elif\n",
        "#ejemplo: alerta de errores\n",
        "alert_system = 'console' # otro valor puede ser 'e-mail'\n",
        "error_severity = 'critical' # otro valor puede ser: 'medio' o 'bajo'\n",
        "error_message = 'OMG! Something terrible happened!'\n",
        "if alert_system == 'console':\n",
        " print(error_message) #1\n",
        "elif alert_system == 'email':\n",
        "   if error_severity == 'critical':\n",
        "      send_email('admin@example.com', error_message) #2\n",
        "elif error_severity == 'medium':\n",
        "      send_email('support.1@example.com', error_message) #3\n",
        "else:\n",
        "      send_email('support.2@example.com', error_message) #4\n",
        "\n"
      ],
      "metadata": {
        "colab": {
          "base_uri": "https://localhost:8080/"
        },
        "id": "q8TISmoCRUF7",
        "outputId": "8ea3afb9-d592-479a-c9e8-f35e0029daa6"
      },
      "execution_count": 27,
      "outputs": [
        {
          "output_type": "stream",
          "name": "stdout",
          "text": [
            "OMG! Something terrible happened!\n"
          ]
        }
      ]
    },
    {
      "cell_type": "markdown",
      "source": [
        "16. Codificación/decodificación personalizada con JSON"
      ],
      "metadata": {
        "id": "q8bsnodnW-D0"
      }
    },
    {
      "cell_type": "code",
      "source": [
        "# json_examples/json_cplx.py\n",
        "#importamos JSON\n",
        "import json\n",
        "#definimos la clase ComplexEncoder(subclase) de la clase JSONEncoder\n",
        "class ComplexEncoder(json.JSONEncoder): #Este metodo se usa cuando el codificador no puede codificar y espera a que devuelva uno que si pueda\n",
        " def default(self, obj): #comprueba si su argumento es un objeto complejo\n",
        "\n",
        "   print(f\"ComplexEncoder.default: {obj=}\")\n",
        "   if isinstance(obj, complex):\n",
        "      return {\n",
        "'_meta': '_complex', #En este caso, devuelve un diccionario con metainformación personalizada y una lista que\n",
        "'num': [obj.real, obj.imag], #contiene tanto la parte real como la imaginaria del número\n",
        "}\n",
        "   return super().default(obj)\n",
        "data = {\n",
        "'an_int': 42,\n",
        "'a_float': 3.14159265,\n",
        "'a_complex': 3 + 4j,\n",
        "}\n",
        "json_data = json.dumps(data, cls=ComplexEncoder) #esta vez usamos el argumento cls para especificar nuestro codificador personalizado\n",
        "print(json_data)\n",
        "def object_hook(obj):\n",
        "   print(f\"object_hook: {obj=}\")\n",
        "   try:\n",
        "    if obj['_meta'] == '_complex':\n",
        "     return complex(*obj['num'])\n",
        "   except KeyError:\n",
        "     return obj\n",
        "data_out = json.loads(json_data, object_hook=object_hook)\n",
        "print(data_out)"
      ],
      "metadata": {
        "id": "-x7EwER7WYFR"
      },
      "execution_count": null,
      "outputs": []
    },
    {
      "cell_type": "markdown",
      "source": [
        "17. Usando una secuencia en memoria"
      ],
      "metadata": {
        "id": "V5mGT4xDYdXX"
      }
    },
    {
      "cell_type": "code",
      "source": [
        "# io_examples/string_io.py\n",
        "import io\n",
        "stream = io.StringIO()\n",
        "stream.write('Learning Python Programming.\\n')\n",
        "print('Become a Python ninja!', file=stream)\n",
        "contents = stream.getvalue()\n",
        "print(contents)\n",
        "stream.close()"
      ],
      "metadata": {
        "colab": {
          "base_uri": "https://localhost:8080/"
        },
        "id": "bK9pt75nYfMJ",
        "outputId": "fc30747c-1916-42cf-9acd-b29e52e0fd3a"
      },
      "execution_count": 28,
      "outputs": [
        {
          "output_type": "stream",
          "name": "stdout",
          "text": [
            "Learning Python Programming.\n",
            "Become a Python ninja!\n",
            "\n"
          ]
        }
      ]
    },
    {
      "cell_type": "markdown",
      "source": [
        "18. Serializar datos con pickle"
      ],
      "metadata": {
        "id": "F0gdTGqhbyw_"
      }
    },
    {
      "cell_type": "code",
      "source": [
        "# persistence/pickler.py\n",
        "import pickle\n",
        "from dataclasses import dataclass\n",
        "\n",
        "@dataclass\n",
        "#creamos una clase 'persona'\n",
        "class Person:\n",
        "  first_name: str #primer nombre\n",
        "  last_name: str #segundo nombre/apellido\n",
        "  id: int #identificacion\n",
        "\n",
        "  def greet(self):\n",
        "   print(f'Hi, I am {self.first_name} {self.last_name}'\n",
        "         f' and my ID is {self.id}')\n",
        "people = [\n",
        "    Person('Obi-Wan', 'Kenobi', 123),\n",
        "    Person('Anakin', 'Skywalker', 456),\n",
        "]\n",
        "\n",
        "# guardar datos en formato binario en un archivo\n",
        "with open('data.pickle', 'wb') as stream:\n",
        " pickle.dump(people, stream)\n",
        "\n",
        "# cargar datos desde un archivo\n",
        "with open('data.pickle', 'rb') as stream:\n",
        " peeps = pickle.load(stream)\n",
        "\n",
        "for person in peeps:\n",
        " person.greet()"
      ],
      "metadata": {
        "colab": {
          "base_uri": "https://localhost:8080/"
        },
        "id": "0kzHJfe5bquQ",
        "outputId": "2374d9da-168a-4cef-cdb4-ceaff8a82b7d"
      },
      "execution_count": 31,
      "outputs": [
        {
          "output_type": "stream",
          "name": "stdout",
          "text": [
            "Hi, I am Obi-Wan Kenobi and my ID is 123\n",
            "Hi, I am Anakin Skywalker and my ID is 456\n"
          ]
        }
      ]
    },
    {
      "cell_type": "markdown",
      "source": [
        "19. Guardar datos con estantería"
      ],
      "metadata": {
        "id": "mif5CvRWfAq2"
      }
    },
    {
      "cell_type": "code",
      "source": [
        "# persistence/shelf.py\n",
        "import shelve\n",
        "class Person:\n",
        " def __init__(self, name, id):\n",
        "  self.name = name\n",
        "  self.id = id\n",
        "with shelve.open('shelf1.shelve') as db:\n",
        " db['obi1'] = Person('Obi-Wan', 123)\n",
        " db['ani'] = Person('Anakin', 456)\n",
        " db['a_list'] = [2, 3, 5]\n",
        " db['delete_me'] = 'we will have to delete this one...'\n",
        " print(list(db.keys())) # 'ani', 'delete_me', 'a_list', 'obi1']\n",
        " del db['delete_me'] # desaparece!\n",
        " print(list(db.keys())) # ['ani', 'a_list', 'obi1']\n",
        " print('delete_me' in db) # False\n",
        " print('ani' in db) # True\n",
        " a_list = db['a_list']\n",
        " a_list.append(7)\n",
        " db['a_list'] = a_list\n",
        " print(db['a_list']) # [2, 3, 5, 7]"
      ],
      "metadata": {
        "colab": {
          "base_uri": "https://localhost:8080/"
        },
        "id": "7odEC8UsfGgF",
        "outputId": "66cfec3c-1824-4843-e6c5-d087a3b2d1b5"
      },
      "execution_count": 32,
      "outputs": [
        {
          "output_type": "stream",
          "name": "stdout",
          "text": [
            "['a_list', 'ani', 'delete_me', 'obi1']\n",
            "['a_list', 'ani', 'obi1']\n",
            "False\n",
            "True\n",
            "[2, 3, 5, 7]\n"
          ]
        }
      ]
    },
    {
      "cell_type": "markdown",
      "source": [
        "20. Guardar datos en una base de datos"
      ],
      "metadata": {
        "id": "FNWc6k8bfrkz"
      }
    },
    {
      "cell_type": "code",
      "source": [
        "from sqlalchemy.ext.declarative import declarative_base\n",
        "from sqlalchemy import (\n",
        "Column, Integer, String, ForeignKey, create_engine)\n",
        "from sqlalchemy.orm import relationship\n",
        "# persistence/alchemy_models.py\n",
        "engine = create_engine('sqlite:///:memory:')\n",
        "Base = declarative_base()\n",
        "#definimos dos modelos, person y address\n",
        "class Person(Base):\n",
        "  #se asignan a una tabla\n",
        " __tablename__ = 'person'\n",
        " id = Column(Integer, primary_key=True)\n",
        " name = Column(String)\n",
        " age = Column(Integer)\n",
        "#llenamos la base de datos y hacemos algunas consultas\n",
        " addresses = relationship(\n",
        "  'Address',\n",
        "  back_populates='person',\n",
        "  order_by='Address.email',\n",
        "  cascade='all, delete-orphan'\n",
        ")\n",
        "def __repr__(self):\n",
        " return f'{self.name}(id={self.id})'\n",
        "# clase address\n",
        "class Address(Base):\n",
        "  #se asigna a una tabla\n",
        " __tablename__ = 'address'\n",
        " id = Column(Integer, primary_key=True)\n",
        " email = Column(String)\n",
        " person_id = Column(ForeignKey('person.id'))\n",
        " person = relationship('Person', back_populates='addresses')\n",
        "def __str__(self):\n",
        " return self.email\n",
        "__repr__ = __str__\n",
        "Base.metadata.create_all(engine)"
      ],
      "metadata": {
        "colab": {
          "base_uri": "https://localhost:8080/"
        },
        "id": "We9xktBGfyhC",
        "outputId": "cfe39ee6-6c93-4f2e-f6cd-7009d24753f9"
      },
      "execution_count": 35,
      "outputs": [
        {
          "output_type": "stream",
          "name": "stderr",
          "text": [
            "<ipython-input-35-bc2e63156540>:7: MovedIn20Warning: The ``declarative_base()`` function is now available as sqlalchemy.orm.declarative_base(). (deprecated since: 2.0) (Background on SQLAlchemy 2.0 at: https://sqlalche.me/e/b8d9)\n",
            "  Base = declarative_base()\n"
          ]
        }
      ]
    }
  ]
}